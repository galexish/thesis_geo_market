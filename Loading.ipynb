{
 "cells": [
  {
   "cell_type": "code",
   "execution_count": 2,
   "metadata": {},
   "outputs": [
    {
     "name": "stderr",
     "output_type": "stream",
     "text": [
      "WARNING: pip is being invoked by an old script wrapper. This will fail in a future version of pip.\n",
      "Please see https://github.com/pypa/pip/issues/5599 for advice on fixing the underlying issue.\n",
      "To avoid this problem you can invoke Python with '-m pip' instead of running pip directly.\n"
     ]
    },
    {
     "data": {
      "text/html": [
       "<pre style=\"white-space:pre;overflow-x:auto;line-height:normal;font-family:Menlo,'DejaVu Sans Mono',consolas,'Courier New',monospace\">Collecting pandas\n",
       "</pre>\n"
      ],
      "text/plain": [
       "Collecting pandas\n"
      ]
     },
     "metadata": {},
     "output_type": "display_data"
    },
    {
     "data": {
      "text/html": [
       "<pre style=\"white-space:pre;overflow-x:auto;line-height:normal;font-family:Menlo,'DejaVu Sans Mono',consolas,'Courier New',monospace\">  Downloading pandas-2.0.3-cp311-cp311-win_amd64.whl (10.6 MB)\n",
       "</pre>\n"
      ],
      "text/plain": [
       "  Downloading pandas-2.0.3-cp311-cp311-win_amd64.whl (10.6 MB)\n"
      ]
     },
     "metadata": {},
     "output_type": "display_data"
    },
    {
     "data": {
      "text/html": [
       "<pre style=\"white-space:pre;overflow-x:auto;line-height:normal;font-family:Menlo,'DejaVu Sans Mono',consolas,'Courier New',monospace\">c:\\Users\\homhe\\AppData\\Local\\Programs\\Python\\Python311\\Lib\\site-packages\\pip\\_vendor\\rich\\live.py:231: UserWarning:\n",
       "install \"ipywidgets\" for Jupyter support\n",
       "  warnings.warn('install \"ipywidgets\" for Jupyter support')\n",
       "</pre>\n"
      ],
      "text/plain": [
       "c:\\Users\\homhe\\AppData\\Local\\Programs\\Python\\Python311\\Lib\\site-packages\\pip\\_vendor\\rich\\live.py:231: UserWarning:\n",
       "install \"ipywidgets\" for Jupyter support\n",
       "  warnings.warn('install \"ipywidgets\" for Jupyter support')\n"
      ]
     },
     "metadata": {},
     "output_type": "display_data"
    },
    {
     "data": {
      "text/html": [
       "<pre style=\"white-space:pre;overflow-x:auto;line-height:normal;font-family:Menlo,'DejaVu Sans Mono',consolas,'Courier New',monospace\"></pre>\n"
      ],
      "text/plain": []
     },
     "metadata": {},
     "output_type": "display_data"
    },
    {
     "data": {
      "text/html": [
       "<pre style=\"white-space:pre;overflow-x:auto;line-height:normal;font-family:Menlo,'DejaVu Sans Mono',consolas,'Courier New',monospace\">\n",
       "</pre>\n"
      ],
      "text/plain": [
       "\n"
      ]
     },
     "metadata": {},
     "output_type": "display_data"
    },
    {
     "data": {
      "text/html": [
       "<pre style=\"white-space:pre;overflow-x:auto;line-height:normal;font-family:Menlo,'DejaVu Sans Mono',consolas,'Courier New',monospace\">Requirement already satisfied: python-dateutil&gt;=2.8.2 in c:\\users\\homhe\\appdata\\roaming\\python\\python311\\site-packages (from pandas) (2.8.2)\n",
       "</pre>\n"
      ],
      "text/plain": [
       "Requirement already satisfied: python-dateutil>=2.8.2 in c:\\users\\homhe\\appdata\\roaming\\python\\python311\\site-packages (from pandas) (2.8.2)\n"
      ]
     },
     "metadata": {},
     "output_type": "display_data"
    },
    {
     "data": {
      "text/html": [
       "<pre style=\"white-space:pre;overflow-x:auto;line-height:normal;font-family:Menlo,'DejaVu Sans Mono',consolas,'Courier New',monospace\">Collecting pytz&gt;=2020.1 (from pandas)\n",
       "</pre>\n"
      ],
      "text/plain": [
       "Collecting pytz>=2020.1 (from pandas)\n"
      ]
     },
     "metadata": {},
     "output_type": "display_data"
    },
    {
     "data": {
      "text/html": [
       "<pre style=\"white-space:pre;overflow-x:auto;line-height:normal;font-family:Menlo,'DejaVu Sans Mono',consolas,'Courier New',monospace\">  Downloading pytz-2023.3-py2.py3-none-any.whl (502 kB)\n",
       "</pre>\n"
      ],
      "text/plain": [
       "  Downloading pytz-2023.3-py2.py3-none-any.whl (502 kB)\n"
      ]
     },
     "metadata": {},
     "output_type": "display_data"
    },
    {
     "data": {
      "text/html": [
       "<pre style=\"white-space:pre;overflow-x:auto;line-height:normal;font-family:Menlo,'DejaVu Sans Mono',consolas,'Courier New',monospace\"></pre>\n"
      ],
      "text/plain": []
     },
     "metadata": {},
     "output_type": "display_data"
    },
    {
     "data": {
      "text/html": [
       "<pre style=\"white-space:pre;overflow-x:auto;line-height:normal;font-family:Menlo,'DejaVu Sans Mono',consolas,'Courier New',monospace\">\n",
       "</pre>\n"
      ],
      "text/plain": [
       "\n"
      ]
     },
     "metadata": {},
     "output_type": "display_data"
    },
    {
     "data": {
      "text/html": [
       "<pre style=\"white-space:pre;overflow-x:auto;line-height:normal;font-family:Menlo,'DejaVu Sans Mono',consolas,'Courier New',monospace\">Collecting tzdata&gt;=2022.1 (from pandas)\n",
       "</pre>\n"
      ],
      "text/plain": [
       "Collecting tzdata>=2022.1 (from pandas)\n"
      ]
     },
     "metadata": {},
     "output_type": "display_data"
    },
    {
     "data": {
      "text/html": [
       "<pre style=\"white-space:pre;overflow-x:auto;line-height:normal;font-family:Menlo,'DejaVu Sans Mono',consolas,'Courier New',monospace\">  Downloading tzdata-2023.3-py2.py3-none-any.whl (341 kB)\n",
       "</pre>\n"
      ],
      "text/plain": [
       "  Downloading tzdata-2023.3-py2.py3-none-any.whl (341 kB)\n"
      ]
     },
     "metadata": {},
     "output_type": "display_data"
    },
    {
     "data": {
      "text/html": [
       "<pre style=\"white-space:pre;overflow-x:auto;line-height:normal;font-family:Menlo,'DejaVu Sans Mono',consolas,'Courier New',monospace\"></pre>\n"
      ],
      "text/plain": []
     },
     "metadata": {},
     "output_type": "display_data"
    },
    {
     "data": {
      "text/html": [
       "<pre style=\"white-space:pre;overflow-x:auto;line-height:normal;font-family:Menlo,'DejaVu Sans Mono',consolas,'Courier New',monospace\">\n",
       "</pre>\n"
      ],
      "text/plain": [
       "\n"
      ]
     },
     "metadata": {},
     "output_type": "display_data"
    },
    {
     "data": {
      "text/html": [
       "<pre style=\"white-space:pre;overflow-x:auto;line-height:normal;font-family:Menlo,'DejaVu Sans Mono',consolas,'Courier New',monospace\">Collecting numpy&gt;=1.21.0 (from pandas)\n",
       "</pre>\n"
      ],
      "text/plain": [
       "Collecting numpy>=1.21.0 (from pandas)\n"
      ]
     },
     "metadata": {},
     "output_type": "display_data"
    },
    {
     "data": {
      "text/html": [
       "<pre style=\"white-space:pre;overflow-x:auto;line-height:normal;font-family:Menlo,'DejaVu Sans Mono',consolas,'Courier New',monospace\">  Downloading numpy-1.25.2-cp311-cp311-win_amd64.whl (15.5 MB)\n",
       "</pre>\n"
      ],
      "text/plain": [
       "  Downloading numpy-1.25.2-cp311-cp311-win_amd64.whl (15.5 MB)\n"
      ]
     },
     "metadata": {},
     "output_type": "display_data"
    },
    {
     "data": {
      "text/html": [
       "<pre style=\"white-space:pre;overflow-x:auto;line-height:normal;font-family:Menlo,'DejaVu Sans Mono',consolas,'Courier New',monospace\"></pre>\n"
      ],
      "text/plain": []
     },
     "metadata": {},
     "output_type": "display_data"
    },
    {
     "data": {
      "text/html": [
       "<pre style=\"white-space:pre;overflow-x:auto;line-height:normal;font-family:Menlo,'DejaVu Sans Mono',consolas,'Courier New',monospace\">\n",
       "</pre>\n"
      ],
      "text/plain": [
       "\n"
      ]
     },
     "metadata": {},
     "output_type": "display_data"
    },
    {
     "data": {
      "text/html": [
       "<pre style=\"white-space:pre;overflow-x:auto;line-height:normal;font-family:Menlo,'DejaVu Sans Mono',consolas,'Courier New',monospace\">Requirement already satisfied: six&gt;=1.5 in c:\\users\\homhe\\appdata\\roaming\\python\\python311\\site-packages (from python-dateutil&gt;=2.8.2-&gt;pandas) (1.16.0)\n",
       "</pre>\n"
      ],
      "text/plain": [
       "Requirement already satisfied: six>=1.5 in c:\\users\\homhe\\appdata\\roaming\\python\\python311\\site-packages (from python-dateutil>=2.8.2->pandas) (1.16.0)\n"
      ]
     },
     "metadata": {},
     "output_type": "display_data"
    },
    {
     "data": {
      "text/html": [
       "<pre style=\"white-space:pre;overflow-x:auto;line-height:normal;font-family:Menlo,'DejaVu Sans Mono',consolas,'Courier New',monospace\">Installing collected packages: pytz, tzdata, numpy, pandas\n",
       "</pre>\n"
      ],
      "text/plain": [
       "Installing collected packages: pytz, tzdata, numpy, pandas\n"
      ]
     },
     "metadata": {},
     "output_type": "display_data"
    },
    {
     "data": {
      "text/html": [
       "<pre style=\"white-space:pre;overflow-x:auto;line-height:normal;font-family:Menlo,'DejaVu Sans Mono',consolas,'Courier New',monospace\"><span style=\"color: #808000; text-decoration-color: #808000\">  WARNING: The script f2py.exe is installed in 'c:\\Users\\homhe\\AppData\\Local\\Programs\\Python\\Python311\\Scripts' which is not on PATH.\n",
       "  Consider adding this directory to PATH or, if you prefer to suppress this warning, use --no-warn-script-location.\n",
       "</span></pre>\n"
      ],
      "text/plain": [
       "\u001b[33m  WARNING: The script f2py.exe is installed in 'c:\\Users\\homhe\\AppData\\Local\\Programs\\Python\\Python311\\Scripts' which is not on PATH.\n",
       "  Consider adding this directory to PATH or, if you prefer to suppress this warning, use --no-warn-script-location.\u001b[0m\u001b[33m\n",
       "\u001b[0m"
      ]
     },
     "metadata": {},
     "output_type": "display_data"
    },
    {
     "data": {
      "text/html": [
       "<pre style=\"white-space:pre;overflow-x:auto;line-height:normal;font-family:Menlo,'DejaVu Sans Mono',consolas,'Courier New',monospace\">Successfully installed numpy-1.25.2 pandas-2.0.3 pytz-2023.3 tzdata-2023.3\n",
       "</pre>\n"
      ],
      "text/plain": [
       "Successfully installed numpy-1.25.2 pandas-2.0.3 pytz-2023.3 tzdata-2023.3\n"
      ]
     },
     "metadata": {},
     "output_type": "display_data"
    },
    {
     "data": {
      "text/html": [
       "<pre style=\"white-space:pre;overflow-x:auto;line-height:normal;font-family:Menlo,'DejaVu Sans Mono',consolas,'Courier New',monospace\">\n",
       "<span style=\"font-weight: bold\">[</span><span style=\"color: #000080; text-decoration-color: #000080; background-color: #ffffff\">notice</span><span style=\"color: #000000; text-decoration-color: #000000; background-color: #ffffff; font-weight: bold\">]</span><span style=\"color: #000000; text-decoration-color: #000000; background-color: #ffffff\"> A new release of pip is available: </span><span style=\"color: #800000; text-decoration-color: #800000; background-color: #ffffff\">23.1.2</span><span style=\"color: #000000; text-decoration-color: #000000; background-color: #ffffff\"> -&gt; </span><span style=\"color: #008000; text-decoration-color: #008000; background-color: #ffffff\">23.2.1</span>\n",
       "<span style=\"font-weight: bold\">[</span><span style=\"color: #000080; text-decoration-color: #000080; background-color: #ffffff\">notice</span><span style=\"color: #000000; text-decoration-color: #000000; background-color: #ffffff; font-weight: bold\">]</span><span style=\"color: #000000; text-decoration-color: #000000; background-color: #ffffff\"> To update, run: </span><span style=\"color: #008000; text-decoration-color: #008000; background-color: #ffffff\">python.exe -m pip install --upgrade pip</span>\n",
       "</pre>\n"
      ],
      "text/plain": [
       "\n",
       "\u001b[1m[\u001b[0m\u001b[34;49mnotice\u001b[0m\u001b[1;39;49m]\u001b[0m\u001b[39;49m A new release of pip is available: \u001b[0m\u001b[31;49m23.1.2\u001b[0m\u001b[39;49m -> \u001b[0m\u001b[32;49m23.2.1\u001b[0m\n",
       "\u001b[1m[\u001b[0m\u001b[34;49mnotice\u001b[0m\u001b[1;39;49m]\u001b[0m\u001b[39;49m To update, run: \u001b[0m\u001b[32;49mpython.exe -m pip install --upgrade pip\u001b[0m\n"
      ]
     },
     "metadata": {},
     "output_type": "display_data"
    },
    {
     "name": "stderr",
     "output_type": "stream",
     "text": [
      "WARNING: pip is being invoked by an old script wrapper. This will fail in a future version of pip.\n",
      "Please see https://github.com/pypa/pip/issues/5599 for advice on fixing the underlying issue.\n",
      "To avoid this problem you can invoke Python with '-m pip' instead of running pip directly.\n"
     ]
    },
    {
     "data": {
      "text/html": [
       "<pre style=\"white-space:pre;overflow-x:auto;line-height:normal;font-family:Menlo,'DejaVu Sans Mono',consolas,'Courier New',monospace\">Requirement already satisfied: numpy in c:\\users\\homhe\\appdata\\local\\programs\\python\\python311\\lib\\site-packages (1.25.2)\n",
       "</pre>\n"
      ],
      "text/plain": [
       "Requirement already satisfied: numpy in c:\\users\\homhe\\appdata\\local\\programs\\python\\python311\\lib\\site-packages (1.25.2)\n"
      ]
     },
     "metadata": {},
     "output_type": "display_data"
    },
    {
     "data": {
      "text/html": [
       "<pre style=\"white-space:pre;overflow-x:auto;line-height:normal;font-family:Menlo,'DejaVu Sans Mono',consolas,'Courier New',monospace\">\n",
       "<span style=\"font-weight: bold\">[</span><span style=\"color: #000080; text-decoration-color: #000080; background-color: #ffffff\">notice</span><span style=\"color: #000000; text-decoration-color: #000000; background-color: #ffffff; font-weight: bold\">]</span><span style=\"color: #000000; text-decoration-color: #000000; background-color: #ffffff\"> A new release of pip is available: </span><span style=\"color: #800000; text-decoration-color: #800000; background-color: #ffffff\">23.1.2</span><span style=\"color: #000000; text-decoration-color: #000000; background-color: #ffffff\"> -&gt; </span><span style=\"color: #008000; text-decoration-color: #008000; background-color: #ffffff\">23.2.1</span>\n",
       "<span style=\"font-weight: bold\">[</span><span style=\"color: #000080; text-decoration-color: #000080; background-color: #ffffff\">notice</span><span style=\"color: #000000; text-decoration-color: #000000; background-color: #ffffff; font-weight: bold\">]</span><span style=\"color: #000000; text-decoration-color: #000000; background-color: #ffffff\"> To update, run: </span><span style=\"color: #008000; text-decoration-color: #008000; background-color: #ffffff\">python.exe -m pip install --upgrade pip</span>\n",
       "</pre>\n"
      ],
      "text/plain": [
       "\n",
       "\u001b[1m[\u001b[0m\u001b[34;49mnotice\u001b[0m\u001b[1;39;49m]\u001b[0m\u001b[39;49m A new release of pip is available: \u001b[0m\u001b[31;49m23.1.2\u001b[0m\u001b[39;49m -> \u001b[0m\u001b[32;49m23.2.1\u001b[0m\n",
       "\u001b[1m[\u001b[0m\u001b[34;49mnotice\u001b[0m\u001b[1;39;49m]\u001b[0m\u001b[39;49m To update, run: \u001b[0m\u001b[32;49mpython.exe -m pip install --upgrade pip\u001b[0m\n"
      ]
     },
     "metadata": {},
     "output_type": "display_data"
    },
    {
     "name": "stderr",
     "output_type": "stream",
     "text": [
      "WARNING: pip is being invoked by an old script wrapper. This will fail in a future version of pip.\n",
      "Please see https://github.com/pypa/pip/issues/5599 for advice on fixing the underlying issue.\n",
      "To avoid this problem you can invoke Python with '-m pip' instead of running pip directly.\n"
     ]
    },
    {
     "data": {
      "text/html": [
       "<pre style=\"white-space:pre;overflow-x:auto;line-height:normal;font-family:Menlo,'DejaVu Sans Mono',consolas,'Courier New',monospace\">Collecting matplotlib\n",
       "</pre>\n"
      ],
      "text/plain": [
       "Collecting matplotlib\n"
      ]
     },
     "metadata": {},
     "output_type": "display_data"
    },
    {
     "data": {
      "text/html": [
       "<pre style=\"white-space:pre;overflow-x:auto;line-height:normal;font-family:Menlo,'DejaVu Sans Mono',consolas,'Courier New',monospace\">  Downloading matplotlib-3.7.2-cp311-cp311-win_amd64.whl (7.5 MB)\n",
       "</pre>\n"
      ],
      "text/plain": [
       "  Downloading matplotlib-3.7.2-cp311-cp311-win_amd64.whl (7.5 MB)\n"
      ]
     },
     "metadata": {},
     "output_type": "display_data"
    },
    {
     "data": {
      "text/html": [
       "<pre style=\"white-space:pre;overflow-x:auto;line-height:normal;font-family:Menlo,'DejaVu Sans Mono',consolas,'Courier New',monospace\">c:\\Users\\homhe\\AppData\\Local\\Programs\\Python\\Python311\\Lib\\site-packages\\pip\\_vendor\\rich\\live.py:231: UserWarning:\n",
       "install \"ipywidgets\" for Jupyter support\n",
       "  warnings.warn('install \"ipywidgets\" for Jupyter support')\n",
       "</pre>\n"
      ],
      "text/plain": [
       "c:\\Users\\homhe\\AppData\\Local\\Programs\\Python\\Python311\\Lib\\site-packages\\pip\\_vendor\\rich\\live.py:231: UserWarning:\n",
       "install \"ipywidgets\" for Jupyter support\n",
       "  warnings.warn('install \"ipywidgets\" for Jupyter support')\n"
      ]
     },
     "metadata": {},
     "output_type": "display_data"
    },
    {
     "data": {
      "text/html": [
       "<pre style=\"white-space:pre;overflow-x:auto;line-height:normal;font-family:Menlo,'DejaVu Sans Mono',consolas,'Courier New',monospace\"></pre>\n"
      ],
      "text/plain": []
     },
     "metadata": {},
     "output_type": "display_data"
    },
    {
     "data": {
      "text/html": [
       "<pre style=\"white-space:pre;overflow-x:auto;line-height:normal;font-family:Menlo,'DejaVu Sans Mono',consolas,'Courier New',monospace\">\n",
       "</pre>\n"
      ],
      "text/plain": [
       "\n"
      ]
     },
     "metadata": {},
     "output_type": "display_data"
    },
    {
     "data": {
      "text/html": [
       "<pre style=\"white-space:pre;overflow-x:auto;line-height:normal;font-family:Menlo,'DejaVu Sans Mono',consolas,'Courier New',monospace\">Collecting contourpy&gt;=1.0.1 (from matplotlib)\n",
       "</pre>\n"
      ],
      "text/plain": [
       "Collecting contourpy>=1.0.1 (from matplotlib)\n"
      ]
     },
     "metadata": {},
     "output_type": "display_data"
    },
    {
     "data": {
      "text/html": [
       "<pre style=\"white-space:pre;overflow-x:auto;line-height:normal;font-family:Menlo,'DejaVu Sans Mono',consolas,'Courier New',monospace\">  Downloading contourpy-1.1.0-cp311-cp311-win_amd64.whl (470 kB)\n",
       "</pre>\n"
      ],
      "text/plain": [
       "  Downloading contourpy-1.1.0-cp311-cp311-win_amd64.whl (470 kB)\n"
      ]
     },
     "metadata": {},
     "output_type": "display_data"
    },
    {
     "data": {
      "text/html": [
       "<pre style=\"white-space:pre;overflow-x:auto;line-height:normal;font-family:Menlo,'DejaVu Sans Mono',consolas,'Courier New',monospace\"></pre>\n"
      ],
      "text/plain": []
     },
     "metadata": {},
     "output_type": "display_data"
    },
    {
     "data": {
      "text/html": [
       "<pre style=\"white-space:pre;overflow-x:auto;line-height:normal;font-family:Menlo,'DejaVu Sans Mono',consolas,'Courier New',monospace\">\n",
       "</pre>\n"
      ],
      "text/plain": [
       "\n"
      ]
     },
     "metadata": {},
     "output_type": "display_data"
    },
    {
     "data": {
      "text/html": [
       "<pre style=\"white-space:pre;overflow-x:auto;line-height:normal;font-family:Menlo,'DejaVu Sans Mono',consolas,'Courier New',monospace\">Collecting cycler&gt;=0.10 (from matplotlib)\n",
       "</pre>\n"
      ],
      "text/plain": [
       "Collecting cycler>=0.10 (from matplotlib)\n"
      ]
     },
     "metadata": {},
     "output_type": "display_data"
    },
    {
     "data": {
      "text/html": [
       "<pre style=\"white-space:pre;overflow-x:auto;line-height:normal;font-family:Menlo,'DejaVu Sans Mono',consolas,'Courier New',monospace\">  Downloading cycler-0.11.0-py3-none-any.whl (6.4 kB)\n",
       "</pre>\n"
      ],
      "text/plain": [
       "  Downloading cycler-0.11.0-py3-none-any.whl (6.4 kB)\n"
      ]
     },
     "metadata": {},
     "output_type": "display_data"
    },
    {
     "data": {
      "text/html": [
       "<pre style=\"white-space:pre;overflow-x:auto;line-height:normal;font-family:Menlo,'DejaVu Sans Mono',consolas,'Courier New',monospace\">Collecting fonttools&gt;=4.22.0 (from matplotlib)\n",
       "</pre>\n"
      ],
      "text/plain": [
       "Collecting fonttools>=4.22.0 (from matplotlib)\n"
      ]
     },
     "metadata": {},
     "output_type": "display_data"
    },
    {
     "data": {
      "text/html": [
       "<pre style=\"white-space:pre;overflow-x:auto;line-height:normal;font-family:Menlo,'DejaVu Sans Mono',consolas,'Courier New',monospace\">  Downloading fonttools-4.42.0-cp311-cp311-win_amd64.whl (2.1 MB)\n",
       "</pre>\n"
      ],
      "text/plain": [
       "  Downloading fonttools-4.42.0-cp311-cp311-win_amd64.whl (2.1 MB)\n"
      ]
     },
     "metadata": {},
     "output_type": "display_data"
    },
    {
     "data": {
      "text/html": [
       "<pre style=\"white-space:pre;overflow-x:auto;line-height:normal;font-family:Menlo,'DejaVu Sans Mono',consolas,'Courier New',monospace\"></pre>\n"
      ],
      "text/plain": []
     },
     "metadata": {},
     "output_type": "display_data"
    },
    {
     "data": {
      "text/html": [
       "<pre style=\"white-space:pre;overflow-x:auto;line-height:normal;font-family:Menlo,'DejaVu Sans Mono',consolas,'Courier New',monospace\">\n",
       "</pre>\n"
      ],
      "text/plain": [
       "\n"
      ]
     },
     "metadata": {},
     "output_type": "display_data"
    },
    {
     "data": {
      "text/html": [
       "<pre style=\"white-space:pre;overflow-x:auto;line-height:normal;font-family:Menlo,'DejaVu Sans Mono',consolas,'Courier New',monospace\">Collecting kiwisolver&gt;=1.0.1 (from matplotlib)\n",
       "</pre>\n"
      ],
      "text/plain": [
       "Collecting kiwisolver>=1.0.1 (from matplotlib)\n"
      ]
     },
     "metadata": {},
     "output_type": "display_data"
    },
    {
     "data": {
      "text/html": [
       "<pre style=\"white-space:pre;overflow-x:auto;line-height:normal;font-family:Menlo,'DejaVu Sans Mono',consolas,'Courier New',monospace\">  Downloading kiwisolver-1.4.4-cp311-cp311-win_amd64.whl (55 kB)\n",
       "</pre>\n"
      ],
      "text/plain": [
       "  Downloading kiwisolver-1.4.4-cp311-cp311-win_amd64.whl (55 kB)\n"
      ]
     },
     "metadata": {},
     "output_type": "display_data"
    },
    {
     "data": {
      "text/html": [
       "<pre style=\"white-space:pre;overflow-x:auto;line-height:normal;font-family:Menlo,'DejaVu Sans Mono',consolas,'Courier New',monospace\"></pre>\n"
      ],
      "text/plain": []
     },
     "metadata": {},
     "output_type": "display_data"
    },
    {
     "data": {
      "text/html": [
       "<pre style=\"white-space:pre;overflow-x:auto;line-height:normal;font-family:Menlo,'DejaVu Sans Mono',consolas,'Courier New',monospace\">\n",
       "</pre>\n"
      ],
      "text/plain": [
       "\n"
      ]
     },
     "metadata": {},
     "output_type": "display_data"
    },
    {
     "data": {
      "text/html": [
       "<pre style=\"white-space:pre;overflow-x:auto;line-height:normal;font-family:Menlo,'DejaVu Sans Mono',consolas,'Courier New',monospace\">Requirement already satisfied: numpy&gt;=1.20 in c:\\users\\homhe\\appdata\\local\\programs\\python\\python311\\lib\\site-packages (from matplotlib) (1.25.2)\n",
       "</pre>\n"
      ],
      "text/plain": [
       "Requirement already satisfied: numpy>=1.20 in c:\\users\\homhe\\appdata\\local\\programs\\python\\python311\\lib\\site-packages (from matplotlib) (1.25.2)\n"
      ]
     },
     "metadata": {},
     "output_type": "display_data"
    },
    {
     "data": {
      "text/html": [
       "<pre style=\"white-space:pre;overflow-x:auto;line-height:normal;font-family:Menlo,'DejaVu Sans Mono',consolas,'Courier New',monospace\">Requirement already satisfied: packaging&gt;=20.0 in c:\\users\\homhe\\appdata\\roaming\\python\\python311\\site-packages (from matplotlib) (23.1)\n",
       "</pre>\n"
      ],
      "text/plain": [
       "Requirement already satisfied: packaging>=20.0 in c:\\users\\homhe\\appdata\\roaming\\python\\python311\\site-packages (from matplotlib) (23.1)\n"
      ]
     },
     "metadata": {},
     "output_type": "display_data"
    },
    {
     "data": {
      "text/html": [
       "<pre style=\"white-space:pre;overflow-x:auto;line-height:normal;font-family:Menlo,'DejaVu Sans Mono',consolas,'Courier New',monospace\">Collecting pillow&gt;=6.2.0 (from matplotlib)\n",
       "</pre>\n"
      ],
      "text/plain": [
       "Collecting pillow>=6.2.0 (from matplotlib)\n"
      ]
     },
     "metadata": {},
     "output_type": "display_data"
    },
    {
     "data": {
      "text/html": [
       "<pre style=\"white-space:pre;overflow-x:auto;line-height:normal;font-family:Menlo,'DejaVu Sans Mono',consolas,'Courier New',monospace\">  Downloading Pillow-10.0.0-cp311-cp311-win_amd64.whl (2.5 MB)\n",
       "</pre>\n"
      ],
      "text/plain": [
       "  Downloading Pillow-10.0.0-cp311-cp311-win_amd64.whl (2.5 MB)\n"
      ]
     },
     "metadata": {},
     "output_type": "display_data"
    },
    {
     "data": {
      "text/html": [
       "<pre style=\"white-space:pre;overflow-x:auto;line-height:normal;font-family:Menlo,'DejaVu Sans Mono',consolas,'Courier New',monospace\"></pre>\n"
      ],
      "text/plain": []
     },
     "metadata": {},
     "output_type": "display_data"
    },
    {
     "data": {
      "text/html": [
       "<pre style=\"white-space:pre;overflow-x:auto;line-height:normal;font-family:Menlo,'DejaVu Sans Mono',consolas,'Courier New',monospace\">\n",
       "</pre>\n"
      ],
      "text/plain": [
       "\n"
      ]
     },
     "metadata": {},
     "output_type": "display_data"
    },
    {
     "data": {
      "text/html": [
       "<pre style=\"white-space:pre;overflow-x:auto;line-height:normal;font-family:Menlo,'DejaVu Sans Mono',consolas,'Courier New',monospace\">Collecting pyparsing&lt;3.1,&gt;=2.3.1 (from matplotlib)\n",
       "</pre>\n"
      ],
      "text/plain": [
       "Collecting pyparsing<3.1,>=2.3.1 (from matplotlib)\n"
      ]
     },
     "metadata": {},
     "output_type": "display_data"
    },
    {
     "data": {
      "text/html": [
       "<pre style=\"white-space:pre;overflow-x:auto;line-height:normal;font-family:Menlo,'DejaVu Sans Mono',consolas,'Courier New',monospace\">  Downloading pyparsing-3.0.9-py3-none-any.whl (98 kB)\n",
       "</pre>\n"
      ],
      "text/plain": [
       "  Downloading pyparsing-3.0.9-py3-none-any.whl (98 kB)\n"
      ]
     },
     "metadata": {},
     "output_type": "display_data"
    },
    {
     "data": {
      "text/html": [
       "<pre style=\"white-space:pre;overflow-x:auto;line-height:normal;font-family:Menlo,'DejaVu Sans Mono',consolas,'Courier New',monospace\"></pre>\n"
      ],
      "text/plain": []
     },
     "metadata": {},
     "output_type": "display_data"
    },
    {
     "data": {
      "text/html": [
       "<pre style=\"white-space:pre;overflow-x:auto;line-height:normal;font-family:Menlo,'DejaVu Sans Mono',consolas,'Courier New',monospace\">\n",
       "</pre>\n"
      ],
      "text/plain": [
       "\n"
      ]
     },
     "metadata": {},
     "output_type": "display_data"
    },
    {
     "data": {
      "text/html": [
       "<pre style=\"white-space:pre;overflow-x:auto;line-height:normal;font-family:Menlo,'DejaVu Sans Mono',consolas,'Courier New',monospace\">Requirement already satisfied: python-dateutil&gt;=2.7 in c:\\users\\homhe\\appdata\\roaming\\python\\python311\\site-packages (from matplotlib) (2.8.2)\n",
       "</pre>\n"
      ],
      "text/plain": [
       "Requirement already satisfied: python-dateutil>=2.7 in c:\\users\\homhe\\appdata\\roaming\\python\\python311\\site-packages (from matplotlib) (2.8.2)\n"
      ]
     },
     "metadata": {},
     "output_type": "display_data"
    },
    {
     "data": {
      "text/html": [
       "<pre style=\"white-space:pre;overflow-x:auto;line-height:normal;font-family:Menlo,'DejaVu Sans Mono',consolas,'Courier New',monospace\">Requirement already satisfied: six&gt;=1.5 in c:\\users\\homhe\\appdata\\roaming\\python\\python311\\site-packages (from python-dateutil&gt;=2.7-&gt;matplotlib) (1.16.0)\n",
       "</pre>\n"
      ],
      "text/plain": [
       "Requirement already satisfied: six>=1.5 in c:\\users\\homhe\\appdata\\roaming\\python\\python311\\site-packages (from python-dateutil>=2.7->matplotlib) (1.16.0)\n"
      ]
     },
     "metadata": {},
     "output_type": "display_data"
    },
    {
     "data": {
      "text/html": [
       "<pre style=\"white-space:pre;overflow-x:auto;line-height:normal;font-family:Menlo,'DejaVu Sans Mono',consolas,'Courier New',monospace\">Installing collected packages: pyparsing, pillow, kiwisolver, fonttools, cycler, contourpy, matplotlib\n",
       "</pre>\n"
      ],
      "text/plain": [
       "Installing collected packages: pyparsing, pillow, kiwisolver, fonttools, cycler, contourpy, matplotlib\n"
      ]
     },
     "metadata": {},
     "output_type": "display_data"
    },
    {
     "data": {
      "text/html": [
       "<pre style=\"white-space:pre;overflow-x:auto;line-height:normal;font-family:Menlo,'DejaVu Sans Mono',consolas,'Courier New',monospace\"><span style=\"color: #808000; text-decoration-color: #808000\">  WARNING: The scripts fonttools.exe, pyftmerge.exe, pyftsubset.exe and ttx.exe are installed in 'c:\\Users\\homhe\\AppData\\Local\\Programs\\Python\\Python311\\Scripts' which is not on PATH.\n",
       "  Consider adding this directory to PATH or, if you prefer to suppress this warning, use --no-warn-script-location.\n",
       "</span></pre>\n"
      ],
      "text/plain": [
       "\u001b[33m  WARNING: The scripts fonttools.exe, pyftmerge.exe, pyftsubset.exe and ttx.exe are installed in 'c:\\Users\\homhe\\AppData\\Local\\Programs\\Python\\Python311\\Scripts' which is not on PATH.\n",
       "  Consider adding this directory to PATH or, if you prefer to suppress this warning, use --no-warn-script-location.\u001b[0m\u001b[33m\n",
       "\u001b[0m"
      ]
     },
     "metadata": {},
     "output_type": "display_data"
    },
    {
     "data": {
      "text/html": [
       "<pre style=\"white-space:pre;overflow-x:auto;line-height:normal;font-family:Menlo,'DejaVu Sans Mono',consolas,'Courier New',monospace\">Successfully installed contourpy-1.1.0 cycler-0.11.0 fonttools-4.42.0 kiwisolver-1.4.4 matplotlib-3.7.2 pillow-10.0.0 pyparsing-3.0.9\n",
       "</pre>\n"
      ],
      "text/plain": [
       "Successfully installed contourpy-1.1.0 cycler-0.11.0 fonttools-4.42.0 kiwisolver-1.4.4 matplotlib-3.7.2 pillow-10.0.0 pyparsing-3.0.9\n"
      ]
     },
     "metadata": {},
     "output_type": "display_data"
    },
    {
     "data": {
      "text/html": [
       "<pre style=\"white-space:pre;overflow-x:auto;line-height:normal;font-family:Menlo,'DejaVu Sans Mono',consolas,'Courier New',monospace\">\n",
       "<span style=\"font-weight: bold\">[</span><span style=\"color: #000080; text-decoration-color: #000080; background-color: #ffffff\">notice</span><span style=\"color: #000000; text-decoration-color: #000000; background-color: #ffffff; font-weight: bold\">]</span><span style=\"color: #000000; text-decoration-color: #000000; background-color: #ffffff\"> A new release of pip is available: </span><span style=\"color: #800000; text-decoration-color: #800000; background-color: #ffffff\">23.1.2</span><span style=\"color: #000000; text-decoration-color: #000000; background-color: #ffffff\"> -&gt; </span><span style=\"color: #008000; text-decoration-color: #008000; background-color: #ffffff\">23.2.1</span>\n",
       "<span style=\"font-weight: bold\">[</span><span style=\"color: #000080; text-decoration-color: #000080; background-color: #ffffff\">notice</span><span style=\"color: #000000; text-decoration-color: #000000; background-color: #ffffff; font-weight: bold\">]</span><span style=\"color: #000000; text-decoration-color: #000000; background-color: #ffffff\"> To update, run: </span><span style=\"color: #008000; text-decoration-color: #008000; background-color: #ffffff\">python.exe -m pip install --upgrade pip</span>\n",
       "</pre>\n"
      ],
      "text/plain": [
       "\n",
       "\u001b[1m[\u001b[0m\u001b[34;49mnotice\u001b[0m\u001b[1;39;49m]\u001b[0m\u001b[39;49m A new release of pip is available: \u001b[0m\u001b[31;49m23.1.2\u001b[0m\u001b[39;49m -> \u001b[0m\u001b[32;49m23.2.1\u001b[0m\n",
       "\u001b[1m[\u001b[0m\u001b[34;49mnotice\u001b[0m\u001b[1;39;49m]\u001b[0m\u001b[39;49m To update, run: \u001b[0m\u001b[32;49mpython.exe -m pip install --upgrade pip\u001b[0m\n"
      ]
     },
     "metadata": {},
     "output_type": "display_data"
    },
    {
     "data": {
      "text/plain": [
       "0"
      ]
     },
     "execution_count": 2,
     "metadata": {},
     "output_type": "execute_result"
    }
   ],
   "source": [
    "import pip\n",
    "\n",
    "pip.main(['install', 'pandas'])\n",
    "pip.main(['install', 'numpy'])\n",
    "pip.main(['install', 'matplotlib'])\n"
   ]
  },
  {
   "cell_type": "code",
   "execution_count": 2,
   "metadata": {},
   "outputs": [
    {
     "name": "stderr",
     "output_type": "stream",
     "text": [
      "WARNING: pip is being invoked by an old script wrapper. This will fail in a future version of pip.\n",
      "Please see https://github.com/pypa/pip/issues/5599 for advice on fixing the underlying issue.\n",
      "To avoid this problem you can invoke Python with '-m pip' instead of running pip directly.\n"
     ]
    },
    {
     "data": {
      "text/html": [
       "<pre style=\"white-space:pre;overflow-x:auto;line-height:normal;font-family:Menlo,'DejaVu Sans Mono',consolas,'Courier New',monospace\">Collecting Flask\n",
       "</pre>\n"
      ],
      "text/plain": [
       "Collecting Flask\n"
      ]
     },
     "metadata": {},
     "output_type": "display_data"
    },
    {
     "data": {
      "text/html": [
       "<pre style=\"white-space:pre;overflow-x:auto;line-height:normal;font-family:Menlo,'DejaVu Sans Mono',consolas,'Courier New',monospace\">  Downloading Flask-2.3.2-py3-none-any.whl (96 kB)\n",
       "</pre>\n"
      ],
      "text/plain": [
       "  Downloading Flask-2.3.2-py3-none-any.whl (96 kB)\n"
      ]
     },
     "metadata": {},
     "output_type": "display_data"
    },
    {
     "data": {
      "text/html": [
       "<pre style=\"white-space:pre;overflow-x:auto;line-height:normal;font-family:Menlo,'DejaVu Sans Mono',consolas,'Courier New',monospace\">c:\\Users\\homhe\\AppData\\Local\\Programs\\Python\\Python311\\Lib\\site-packages\\pip\\_vendor\\rich\\live.py:231: UserWarning:\n",
       "install \"ipywidgets\" for Jupyter support\n",
       "  warnings.warn('install \"ipywidgets\" for Jupyter support')\n",
       "</pre>\n"
      ],
      "text/plain": [
       "c:\\Users\\homhe\\AppData\\Local\\Programs\\Python\\Python311\\Lib\\site-packages\\pip\\_vendor\\rich\\live.py:231: UserWarning:\n",
       "install \"ipywidgets\" for Jupyter support\n",
       "  warnings.warn('install \"ipywidgets\" for Jupyter support')\n"
      ]
     },
     "metadata": {},
     "output_type": "display_data"
    },
    {
     "data": {
      "text/html": [
       "<pre style=\"white-space:pre;overflow-x:auto;line-height:normal;font-family:Menlo,'DejaVu Sans Mono',consolas,'Courier New',monospace\"></pre>\n"
      ],
      "text/plain": []
     },
     "metadata": {},
     "output_type": "display_data"
    },
    {
     "data": {
      "text/html": [
       "<pre style=\"white-space:pre;overflow-x:auto;line-height:normal;font-family:Menlo,'DejaVu Sans Mono',consolas,'Courier New',monospace\">\n",
       "</pre>\n"
      ],
      "text/plain": [
       "\n"
      ]
     },
     "metadata": {},
     "output_type": "display_data"
    },
    {
     "data": {
      "text/html": [
       "<pre style=\"white-space:pre;overflow-x:auto;line-height:normal;font-family:Menlo,'DejaVu Sans Mono',consolas,'Courier New',monospace\">Collecting Werkzeug&gt;=2.3.3 (from Flask)\n",
       "</pre>\n"
      ],
      "text/plain": [
       "Collecting Werkzeug>=2.3.3 (from Flask)\n"
      ]
     },
     "metadata": {},
     "output_type": "display_data"
    },
    {
     "data": {
      "text/html": [
       "<pre style=\"white-space:pre;overflow-x:auto;line-height:normal;font-family:Menlo,'DejaVu Sans Mono',consolas,'Courier New',monospace\">  Downloading werkzeug-2.3.7-py3-none-any.whl (242 kB)\n",
       "</pre>\n"
      ],
      "text/plain": [
       "  Downloading werkzeug-2.3.7-py3-none-any.whl (242 kB)\n"
      ]
     },
     "metadata": {},
     "output_type": "display_data"
    },
    {
     "data": {
      "text/html": [
       "<pre style=\"white-space:pre;overflow-x:auto;line-height:normal;font-family:Menlo,'DejaVu Sans Mono',consolas,'Courier New',monospace\"></pre>\n"
      ],
      "text/plain": []
     },
     "metadata": {},
     "output_type": "display_data"
    },
    {
     "data": {
      "text/html": [
       "<pre style=\"white-space:pre;overflow-x:auto;line-height:normal;font-family:Menlo,'DejaVu Sans Mono',consolas,'Courier New',monospace\">\n",
       "</pre>\n"
      ],
      "text/plain": [
       "\n"
      ]
     },
     "metadata": {},
     "output_type": "display_data"
    },
    {
     "data": {
      "text/html": [
       "<pre style=\"white-space:pre;overflow-x:auto;line-height:normal;font-family:Menlo,'DejaVu Sans Mono',consolas,'Courier New',monospace\">Collecting Jinja2&gt;=3.1.2 (from Flask)\n",
       "</pre>\n"
      ],
      "text/plain": [
       "Collecting Jinja2>=3.1.2 (from Flask)\n"
      ]
     },
     "metadata": {},
     "output_type": "display_data"
    },
    {
     "data": {
      "text/html": [
       "<pre style=\"white-space:pre;overflow-x:auto;line-height:normal;font-family:Menlo,'DejaVu Sans Mono',consolas,'Courier New',monospace\">  Downloading Jinja2-3.1.2-py3-none-any.whl (133 kB)\n",
       "</pre>\n"
      ],
      "text/plain": [
       "  Downloading Jinja2-3.1.2-py3-none-any.whl (133 kB)\n"
      ]
     },
     "metadata": {},
     "output_type": "display_data"
    },
    {
     "data": {
      "text/html": [
       "<pre style=\"white-space:pre;overflow-x:auto;line-height:normal;font-family:Menlo,'DejaVu Sans Mono',consolas,'Courier New',monospace\"></pre>\n"
      ],
      "text/plain": []
     },
     "metadata": {},
     "output_type": "display_data"
    },
    {
     "data": {
      "text/html": [
       "<pre style=\"white-space:pre;overflow-x:auto;line-height:normal;font-family:Menlo,'DejaVu Sans Mono',consolas,'Courier New',monospace\">\n",
       "</pre>\n"
      ],
      "text/plain": [
       "\n"
      ]
     },
     "metadata": {},
     "output_type": "display_data"
    },
    {
     "data": {
      "text/html": [
       "<pre style=\"white-space:pre;overflow-x:auto;line-height:normal;font-family:Menlo,'DejaVu Sans Mono',consolas,'Courier New',monospace\">Collecting itsdangerous&gt;=2.1.2 (from Flask)\n",
       "</pre>\n"
      ],
      "text/plain": [
       "Collecting itsdangerous>=2.1.2 (from Flask)\n"
      ]
     },
     "metadata": {},
     "output_type": "display_data"
    },
    {
     "data": {
      "text/html": [
       "<pre style=\"white-space:pre;overflow-x:auto;line-height:normal;font-family:Menlo,'DejaVu Sans Mono',consolas,'Courier New',monospace\">  Downloading itsdangerous-2.1.2-py3-none-any.whl (15 kB)\n",
       "</pre>\n"
      ],
      "text/plain": [
       "  Downloading itsdangerous-2.1.2-py3-none-any.whl (15 kB)\n"
      ]
     },
     "metadata": {},
     "output_type": "display_data"
    },
    {
     "data": {
      "text/html": [
       "<pre style=\"white-space:pre;overflow-x:auto;line-height:normal;font-family:Menlo,'DejaVu Sans Mono',consolas,'Courier New',monospace\">Collecting click&gt;=8.1.3 (from Flask)\n",
       "</pre>\n"
      ],
      "text/plain": [
       "Collecting click>=8.1.3 (from Flask)\n"
      ]
     },
     "metadata": {},
     "output_type": "display_data"
    },
    {
     "data": {
      "text/html": [
       "<pre style=\"white-space:pre;overflow-x:auto;line-height:normal;font-family:Menlo,'DejaVu Sans Mono',consolas,'Courier New',monospace\">  Downloading click-8.1.7-py3-none-any.whl (97 kB)\n",
       "</pre>\n"
      ],
      "text/plain": [
       "  Downloading click-8.1.7-py3-none-any.whl (97 kB)\n"
      ]
     },
     "metadata": {},
     "output_type": "display_data"
    },
    {
     "data": {
      "text/html": [
       "<pre style=\"white-space:pre;overflow-x:auto;line-height:normal;font-family:Menlo,'DejaVu Sans Mono',consolas,'Courier New',monospace\"></pre>\n"
      ],
      "text/plain": []
     },
     "metadata": {},
     "output_type": "display_data"
    },
    {
     "data": {
      "text/html": [
       "<pre style=\"white-space:pre;overflow-x:auto;line-height:normal;font-family:Menlo,'DejaVu Sans Mono',consolas,'Courier New',monospace\">\n",
       "</pre>\n"
      ],
      "text/plain": [
       "\n"
      ]
     },
     "metadata": {},
     "output_type": "display_data"
    },
    {
     "data": {
      "text/html": [
       "<pre style=\"white-space:pre;overflow-x:auto;line-height:normal;font-family:Menlo,'DejaVu Sans Mono',consolas,'Courier New',monospace\">Collecting blinker&gt;=1.6.2 (from Flask)\n",
       "</pre>\n"
      ],
      "text/plain": [
       "Collecting blinker>=1.6.2 (from Flask)\n"
      ]
     },
     "metadata": {},
     "output_type": "display_data"
    },
    {
     "data": {
      "text/html": [
       "<pre style=\"white-space:pre;overflow-x:auto;line-height:normal;font-family:Menlo,'DejaVu Sans Mono',consolas,'Courier New',monospace\">  Downloading blinker-1.6.2-py3-none-any.whl (13 kB)\n",
       "</pre>\n"
      ],
      "text/plain": [
       "  Downloading blinker-1.6.2-py3-none-any.whl (13 kB)\n"
      ]
     },
     "metadata": {},
     "output_type": "display_data"
    },
    {
     "data": {
      "text/html": [
       "<pre style=\"white-space:pre;overflow-x:auto;line-height:normal;font-family:Menlo,'DejaVu Sans Mono',consolas,'Courier New',monospace\">Requirement already satisfied: colorama in c:\\users\\homhe\\appdata\\roaming\\python\\python311\\site-packages (from click&gt;=8.1.3-&gt;Flask) (0.4.6)\n",
       "</pre>\n"
      ],
      "text/plain": [
       "Requirement already satisfied: colorama in c:\\users\\homhe\\appdata\\roaming\\python\\python311\\site-packages (from click>=8.1.3->Flask) (0.4.6)\n"
      ]
     },
     "metadata": {},
     "output_type": "display_data"
    },
    {
     "data": {
      "text/html": [
       "<pre style=\"white-space:pre;overflow-x:auto;line-height:normal;font-family:Menlo,'DejaVu Sans Mono',consolas,'Courier New',monospace\">Collecting MarkupSafe&gt;=2.0 (from Jinja2&gt;=3.1.2-&gt;Flask)\n",
       "</pre>\n"
      ],
      "text/plain": [
       "Collecting MarkupSafe>=2.0 (from Jinja2>=3.1.2->Flask)\n"
      ]
     },
     "metadata": {},
     "output_type": "display_data"
    },
    {
     "data": {
      "text/html": [
       "<pre style=\"white-space:pre;overflow-x:auto;line-height:normal;font-family:Menlo,'DejaVu Sans Mono',consolas,'Courier New',monospace\">  Downloading MarkupSafe-2.1.3-cp311-cp311-win_amd64.whl (17 kB)\n",
       "</pre>\n"
      ],
      "text/plain": [
       "  Downloading MarkupSafe-2.1.3-cp311-cp311-win_amd64.whl (17 kB)\n"
      ]
     },
     "metadata": {},
     "output_type": "display_data"
    },
    {
     "data": {
      "text/html": [
       "<pre style=\"white-space:pre;overflow-x:auto;line-height:normal;font-family:Menlo,'DejaVu Sans Mono',consolas,'Courier New',monospace\">Installing collected packages: MarkupSafe, itsdangerous, click, blinker, Werkzeug, Jinja2, Flask\n",
       "</pre>\n"
      ],
      "text/plain": [
       "Installing collected packages: MarkupSafe, itsdangerous, click, blinker, Werkzeug, Jinja2, Flask\n"
      ]
     },
     "metadata": {},
     "output_type": "display_data"
    },
    {
     "data": {
      "text/html": [
       "<pre style=\"white-space:pre;overflow-x:auto;line-height:normal;font-family:Menlo,'DejaVu Sans Mono',consolas,'Courier New',monospace\"><span style=\"color: #808000; text-decoration-color: #808000\">  WARNING: The script flask.exe is installed in 'c:\\Users\\homhe\\AppData\\Local\\Programs\\Python\\Python311\\Scripts' which is not on PATH.\n",
       "  Consider adding this directory to PATH or, if you prefer to suppress this warning, use --no-warn-script-location.\n",
       "</span></pre>\n"
      ],
      "text/plain": [
       "\u001b[33m  WARNING: The script flask.exe is installed in 'c:\\Users\\homhe\\AppData\\Local\\Programs\\Python\\Python311\\Scripts' which is not on PATH.\n",
       "  Consider adding this directory to PATH or, if you prefer to suppress this warning, use --no-warn-script-location.\u001b[0m\u001b[33m\n",
       "\u001b[0m"
      ]
     },
     "metadata": {},
     "output_type": "display_data"
    },
    {
     "data": {
      "text/html": [
       "<pre style=\"white-space:pre;overflow-x:auto;line-height:normal;font-family:Menlo,'DejaVu Sans Mono',consolas,'Courier New',monospace\">Successfully installed Flask-2.3.2 Jinja2-3.1.2 MarkupSafe-2.1.3 Werkzeug-2.3.7 blinker-1.6.2 click-8.1.7 itsdangerous-2.1.2\n",
       "</pre>\n"
      ],
      "text/plain": [
       "Successfully installed Flask-2.3.2 Jinja2-3.1.2 MarkupSafe-2.1.3 Werkzeug-2.3.7 blinker-1.6.2 click-8.1.7 itsdangerous-2.1.2\n"
      ]
     },
     "metadata": {},
     "output_type": "display_data"
    },
    {
     "data": {
      "text/html": [
       "<pre style=\"white-space:pre;overflow-x:auto;line-height:normal;font-family:Menlo,'DejaVu Sans Mono',consolas,'Courier New',monospace\">\n",
       "<span style=\"font-weight: bold\">[</span><span style=\"color: #000080; text-decoration-color: #000080; background-color: #ffffff\">notice</span><span style=\"color: #000000; text-decoration-color: #000000; background-color: #ffffff; font-weight: bold\">]</span><span style=\"color: #000000; text-decoration-color: #000000; background-color: #ffffff\"> A new release of pip is available: </span><span style=\"color: #800000; text-decoration-color: #800000; background-color: #ffffff\">23.1.2</span><span style=\"color: #000000; text-decoration-color: #000000; background-color: #ffffff\"> -&gt; </span><span style=\"color: #008000; text-decoration-color: #008000; background-color: #ffffff\">23.2.1</span>\n",
       "<span style=\"font-weight: bold\">[</span><span style=\"color: #000080; text-decoration-color: #000080; background-color: #ffffff\">notice</span><span style=\"color: #000000; text-decoration-color: #000000; background-color: #ffffff; font-weight: bold\">]</span><span style=\"color: #000000; text-decoration-color: #000000; background-color: #ffffff\"> To update, run: </span><span style=\"color: #008000; text-decoration-color: #008000; background-color: #ffffff\">python.exe -m pip install --upgrade pip</span>\n",
       "</pre>\n"
      ],
      "text/plain": [
       "\n",
       "\u001b[1m[\u001b[0m\u001b[34;49mnotice\u001b[0m\u001b[1;39;49m]\u001b[0m\u001b[39;49m A new release of pip is available: \u001b[0m\u001b[31;49m23.1.2\u001b[0m\u001b[39;49m -> \u001b[0m\u001b[32;49m23.2.1\u001b[0m\n",
       "\u001b[1m[\u001b[0m\u001b[34;49mnotice\u001b[0m\u001b[1;39;49m]\u001b[0m\u001b[39;49m To update, run: \u001b[0m\u001b[32;49mpython.exe -m pip install --upgrade pip\u001b[0m\n"
      ]
     },
     "metadata": {},
     "output_type": "display_data"
    },
    {
     "data": {
      "text/plain": [
       "0"
      ]
     },
     "execution_count": 2,
     "metadata": {},
     "output_type": "execute_result"
    }
   ],
   "source": [
    "import pip\n",
    "pip.main(['install', 'Flask'])"
   ]
  },
  {
   "cell_type": "code",
   "execution_count": 3,
   "metadata": {},
   "outputs": [
    {
     "name": "stderr",
     "output_type": "stream",
     "text": [
      "WARNING: pip is being invoked by an old script wrapper. This will fail in a future version of pip.\n",
      "Please see https://github.com/pypa/pip/issues/5599 for advice on fixing the underlying issue.\n",
      "To avoid this problem you can invoke Python with '-m pip' instead of running pip directly.\n"
     ]
    },
    {
     "data": {
      "text/html": [
       "<pre style=\"white-space:pre;overflow-x:auto;line-height:normal;font-family:Menlo,'DejaVu Sans Mono',consolas,'Courier New',monospace\">Collecting statsmodels\n",
       "</pre>\n"
      ],
      "text/plain": [
       "Collecting statsmodels\n"
      ]
     },
     "metadata": {},
     "output_type": "display_data"
    },
    {
     "data": {
      "text/html": [
       "<pre style=\"white-space:pre;overflow-x:auto;line-height:normal;font-family:Menlo,'DejaVu Sans Mono',consolas,'Courier New',monospace\">  Downloading statsmodels-0.14.0-cp311-cp311-win_amd64.whl (9.2 MB)\n",
       "</pre>\n"
      ],
      "text/plain": [
       "  Downloading statsmodels-0.14.0-cp311-cp311-win_amd64.whl (9.2 MB)\n"
      ]
     },
     "metadata": {},
     "output_type": "display_data"
    },
    {
     "data": {
      "text/html": [
       "<pre style=\"white-space:pre;overflow-x:auto;line-height:normal;font-family:Menlo,'DejaVu Sans Mono',consolas,'Courier New',monospace\">c:\\Users\\homhe\\AppData\\Local\\Programs\\Python\\Python311\\Lib\\site-packages\\pip\\_vendor\\rich\\live.py:231: UserWarning:\n",
       "install \"ipywidgets\" for Jupyter support\n",
       "  warnings.warn('install \"ipywidgets\" for Jupyter support')\n",
       "</pre>\n"
      ],
      "text/plain": [
       "c:\\Users\\homhe\\AppData\\Local\\Programs\\Python\\Python311\\Lib\\site-packages\\pip\\_vendor\\rich\\live.py:231: UserWarning:\n",
       "install \"ipywidgets\" for Jupyter support\n",
       "  warnings.warn('install \"ipywidgets\" for Jupyter support')\n"
      ]
     },
     "metadata": {},
     "output_type": "display_data"
    },
    {
     "data": {
      "text/html": [
       "<pre style=\"white-space:pre;overflow-x:auto;line-height:normal;font-family:Menlo,'DejaVu Sans Mono',consolas,'Courier New',monospace\"></pre>\n"
      ],
      "text/plain": []
     },
     "metadata": {},
     "output_type": "display_data"
    },
    {
     "data": {
      "text/html": [
       "<pre style=\"white-space:pre;overflow-x:auto;line-height:normal;font-family:Menlo,'DejaVu Sans Mono',consolas,'Courier New',monospace\">\n",
       "</pre>\n"
      ],
      "text/plain": [
       "\n"
      ]
     },
     "metadata": {},
     "output_type": "display_data"
    },
    {
     "data": {
      "text/html": [
       "<pre style=\"white-space:pre;overflow-x:auto;line-height:normal;font-family:Menlo,'DejaVu Sans Mono',consolas,'Courier New',monospace\">Requirement already satisfied: numpy&gt;=1.18 in c:\\users\\homhe\\appdata\\local\\programs\\python\\python311\\lib\\site-packages (from statsmodels) (1.25.2)\n",
       "</pre>\n"
      ],
      "text/plain": [
       "Requirement already satisfied: numpy>=1.18 in c:\\users\\homhe\\appdata\\local\\programs\\python\\python311\\lib\\site-packages (from statsmodels) (1.25.2)\n"
      ]
     },
     "metadata": {},
     "output_type": "display_data"
    },
    {
     "data": {
      "text/html": [
       "<pre style=\"white-space:pre;overflow-x:auto;line-height:normal;font-family:Menlo,'DejaVu Sans Mono',consolas,'Courier New',monospace\">Collecting scipy!=1.9.2,&gt;=1.4 (from statsmodels)\n",
       "</pre>\n"
      ],
      "text/plain": [
       "Collecting scipy!=1.9.2,>=1.4 (from statsmodels)\n"
      ]
     },
     "metadata": {},
     "output_type": "display_data"
    },
    {
     "data": {
      "text/html": [
       "<pre style=\"white-space:pre;overflow-x:auto;line-height:normal;font-family:Menlo,'DejaVu Sans Mono',consolas,'Courier New',monospace\">  Downloading scipy-1.11.2-cp311-cp311-win_amd64.whl (44.0 MB)\n",
       "</pre>\n"
      ],
      "text/plain": [
       "  Downloading scipy-1.11.2-cp311-cp311-win_amd64.whl (44.0 MB)\n"
      ]
     },
     "metadata": {},
     "output_type": "display_data"
    },
    {
     "data": {
      "text/html": [
       "<pre style=\"white-space:pre;overflow-x:auto;line-height:normal;font-family:Menlo,'DejaVu Sans Mono',consolas,'Courier New',monospace\"></pre>\n"
      ],
      "text/plain": []
     },
     "metadata": {},
     "output_type": "display_data"
    },
    {
     "data": {
      "text/html": [
       "<pre style=\"white-space:pre;overflow-x:auto;line-height:normal;font-family:Menlo,'DejaVu Sans Mono',consolas,'Courier New',monospace\">\n",
       "</pre>\n"
      ],
      "text/plain": [
       "\n"
      ]
     },
     "metadata": {},
     "output_type": "display_data"
    },
    {
     "data": {
      "text/html": [
       "<pre style=\"white-space:pre;overflow-x:auto;line-height:normal;font-family:Menlo,'DejaVu Sans Mono',consolas,'Courier New',monospace\">Requirement already satisfied: pandas&gt;=1.0 in c:\\users\\homhe\\appdata\\local\\programs\\python\\python311\\lib\\site-packages (from statsmodels) (2.0.3)\n",
       "</pre>\n"
      ],
      "text/plain": [
       "Requirement already satisfied: pandas>=1.0 in c:\\users\\homhe\\appdata\\local\\programs\\python\\python311\\lib\\site-packages (from statsmodels) (2.0.3)\n"
      ]
     },
     "metadata": {},
     "output_type": "display_data"
    },
    {
     "data": {
      "text/html": [
       "<pre style=\"white-space:pre;overflow-x:auto;line-height:normal;font-family:Menlo,'DejaVu Sans Mono',consolas,'Courier New',monospace\">Collecting patsy&gt;=0.5.2 (from statsmodels)\n",
       "</pre>\n"
      ],
      "text/plain": [
       "Collecting patsy>=0.5.2 (from statsmodels)\n"
      ]
     },
     "metadata": {},
     "output_type": "display_data"
    },
    {
     "data": {
      "text/html": [
       "<pre style=\"white-space:pre;overflow-x:auto;line-height:normal;font-family:Menlo,'DejaVu Sans Mono',consolas,'Courier New',monospace\">  Downloading patsy-0.5.3-py2.py3-none-any.whl (233 kB)\n",
       "</pre>\n"
      ],
      "text/plain": [
       "  Downloading patsy-0.5.3-py2.py3-none-any.whl (233 kB)\n"
      ]
     },
     "metadata": {},
     "output_type": "display_data"
    },
    {
     "data": {
      "text/html": [
       "<pre style=\"white-space:pre;overflow-x:auto;line-height:normal;font-family:Menlo,'DejaVu Sans Mono',consolas,'Courier New',monospace\"></pre>\n"
      ],
      "text/plain": []
     },
     "metadata": {},
     "output_type": "display_data"
    },
    {
     "data": {
      "text/html": [
       "<pre style=\"white-space:pre;overflow-x:auto;line-height:normal;font-family:Menlo,'DejaVu Sans Mono',consolas,'Courier New',monospace\">\n",
       "</pre>\n"
      ],
      "text/plain": [
       "\n"
      ]
     },
     "metadata": {},
     "output_type": "display_data"
    },
    {
     "data": {
      "text/html": [
       "<pre style=\"white-space:pre;overflow-x:auto;line-height:normal;font-family:Menlo,'DejaVu Sans Mono',consolas,'Courier New',monospace\">Requirement already satisfied: packaging&gt;=21.3 in c:\\users\\homhe\\appdata\\roaming\\python\\python311\\site-packages (from statsmodels) (23.1)\n",
       "</pre>\n"
      ],
      "text/plain": [
       "Requirement already satisfied: packaging>=21.3 in c:\\users\\homhe\\appdata\\roaming\\python\\python311\\site-packages (from statsmodels) (23.1)\n"
      ]
     },
     "metadata": {},
     "output_type": "display_data"
    },
    {
     "data": {
      "text/html": [
       "<pre style=\"white-space:pre;overflow-x:auto;line-height:normal;font-family:Menlo,'DejaVu Sans Mono',consolas,'Courier New',monospace\">Requirement already satisfied: python-dateutil&gt;=2.8.2 in c:\\users\\homhe\\appdata\\roaming\\python\\python311\\site-packages (from pandas&gt;=1.0-&gt;statsmodels) (2.8.2)\n",
       "</pre>\n"
      ],
      "text/plain": [
       "Requirement already satisfied: python-dateutil>=2.8.2 in c:\\users\\homhe\\appdata\\roaming\\python\\python311\\site-packages (from pandas>=1.0->statsmodels) (2.8.2)\n"
      ]
     },
     "metadata": {},
     "output_type": "display_data"
    },
    {
     "data": {
      "text/html": [
       "<pre style=\"white-space:pre;overflow-x:auto;line-height:normal;font-family:Menlo,'DejaVu Sans Mono',consolas,'Courier New',monospace\">Requirement already satisfied: pytz&gt;=2020.1 in c:\\users\\homhe\\appdata\\local\\programs\\python\\python311\\lib\\site-packages (from pandas&gt;=1.0-&gt;statsmodels) (2023.3)\n",
       "</pre>\n"
      ],
      "text/plain": [
       "Requirement already satisfied: pytz>=2020.1 in c:\\users\\homhe\\appdata\\local\\programs\\python\\python311\\lib\\site-packages (from pandas>=1.0->statsmodels) (2023.3)\n"
      ]
     },
     "metadata": {},
     "output_type": "display_data"
    },
    {
     "data": {
      "text/html": [
       "<pre style=\"white-space:pre;overflow-x:auto;line-height:normal;font-family:Menlo,'DejaVu Sans Mono',consolas,'Courier New',monospace\">Requirement already satisfied: tzdata&gt;=2022.1 in c:\\users\\homhe\\appdata\\local\\programs\\python\\python311\\lib\\site-packages (from pandas&gt;=1.0-&gt;statsmodels) (2023.3)\n",
       "</pre>\n"
      ],
      "text/plain": [
       "Requirement already satisfied: tzdata>=2022.1 in c:\\users\\homhe\\appdata\\local\\programs\\python\\python311\\lib\\site-packages (from pandas>=1.0->statsmodels) (2023.3)\n"
      ]
     },
     "metadata": {},
     "output_type": "display_data"
    },
    {
     "data": {
      "text/html": [
       "<pre style=\"white-space:pre;overflow-x:auto;line-height:normal;font-family:Menlo,'DejaVu Sans Mono',consolas,'Courier New',monospace\">Requirement already satisfied: six in c:\\users\\homhe\\appdata\\roaming\\python\\python311\\site-packages (from patsy&gt;=0.5.2-&gt;statsmodels) (1.16.0)\n",
       "</pre>\n"
      ],
      "text/plain": [
       "Requirement already satisfied: six in c:\\users\\homhe\\appdata\\roaming\\python\\python311\\site-packages (from patsy>=0.5.2->statsmodels) (1.16.0)\n"
      ]
     },
     "metadata": {},
     "output_type": "display_data"
    },
    {
     "data": {
      "text/html": [
       "<pre style=\"white-space:pre;overflow-x:auto;line-height:normal;font-family:Menlo,'DejaVu Sans Mono',consolas,'Courier New',monospace\">Installing collected packages: scipy, patsy, statsmodels\n",
       "</pre>\n"
      ],
      "text/plain": [
       "Installing collected packages: scipy, patsy, statsmodels\n"
      ]
     },
     "metadata": {},
     "output_type": "display_data"
    },
    {
     "data": {
      "text/html": [
       "<pre style=\"white-space:pre;overflow-x:auto;line-height:normal;font-family:Menlo,'DejaVu Sans Mono',consolas,'Courier New',monospace\">Successfully installed patsy-0.5.3 scipy-1.11.2 statsmodels-0.14.0\n",
       "</pre>\n"
      ],
      "text/plain": [
       "Successfully installed patsy-0.5.3 scipy-1.11.2 statsmodels-0.14.0\n"
      ]
     },
     "metadata": {},
     "output_type": "display_data"
    },
    {
     "data": {
      "text/html": [
       "<pre style=\"white-space:pre;overflow-x:auto;line-height:normal;font-family:Menlo,'DejaVu Sans Mono',consolas,'Courier New',monospace\">\n",
       "<span style=\"font-weight: bold\">[</span><span style=\"color: #000080; text-decoration-color: #000080; background-color: #ffffff\">notice</span><span style=\"color: #000000; text-decoration-color: #000000; background-color: #ffffff; font-weight: bold\">]</span><span style=\"color: #000000; text-decoration-color: #000000; background-color: #ffffff\"> A new release of pip is available: </span><span style=\"color: #800000; text-decoration-color: #800000; background-color: #ffffff\">23.1.2</span><span style=\"color: #000000; text-decoration-color: #000000; background-color: #ffffff\"> -&gt; </span><span style=\"color: #008000; text-decoration-color: #008000; background-color: #ffffff\">23.2.1</span>\n",
       "<span style=\"font-weight: bold\">[</span><span style=\"color: #000080; text-decoration-color: #000080; background-color: #ffffff\">notice</span><span style=\"color: #000000; text-decoration-color: #000000; background-color: #ffffff; font-weight: bold\">]</span><span style=\"color: #000000; text-decoration-color: #000000; background-color: #ffffff\"> To update, run: </span><span style=\"color: #008000; text-decoration-color: #008000; background-color: #ffffff\">python.exe -m pip install --upgrade pip</span>\n",
       "</pre>\n"
      ],
      "text/plain": [
       "\n",
       "\u001b[1m[\u001b[0m\u001b[34;49mnotice\u001b[0m\u001b[1;39;49m]\u001b[0m\u001b[39;49m A new release of pip is available: \u001b[0m\u001b[31;49m23.1.2\u001b[0m\u001b[39;49m -> \u001b[0m\u001b[32;49m23.2.1\u001b[0m\n",
       "\u001b[1m[\u001b[0m\u001b[34;49mnotice\u001b[0m\u001b[1;39;49m]\u001b[0m\u001b[39;49m To update, run: \u001b[0m\u001b[32;49mpython.exe -m pip install --upgrade pip\u001b[0m\n"
      ]
     },
     "metadata": {},
     "output_type": "display_data"
    },
    {
     "data": {
      "text/plain": [
       "0"
      ]
     },
     "execution_count": 3,
     "metadata": {},
     "output_type": "execute_result"
    }
   ],
   "source": [
    "import pip\n",
    "\n",
    "pip.main(['install', 'statsmodels'])"
   ]
  },
  {
   "cell_type": "code",
   "execution_count": 1,
   "metadata": {},
   "outputs": [
    {
     "name": "stderr",
     "output_type": "stream",
     "text": [
      "WARNING: pip is being invoked by an old script wrapper. This will fail in a future version of pip.\n",
      "Please see https://github.com/pypa/pip/issues/5599 for advice on fixing the underlying issue.\n",
      "To avoid this problem you can invoke Python with '-m pip' instead of running pip directly.\n"
     ]
    },
    {
     "data": {
      "text/html": [
       "<pre style=\"white-space:pre;overflow-x:auto;line-height:normal;font-family:Menlo,'DejaVu Sans Mono',consolas,'Courier New',monospace\">Requirement already satisfied: scipy in c:\\users\\homhe\\appdata\\local\\programs\\python\\python311\\lib\\site-packages (1.11.2)\n",
       "</pre>\n"
      ],
      "text/plain": [
       "Requirement already satisfied: scipy in c:\\users\\homhe\\appdata\\local\\programs\\python\\python311\\lib\\site-packages (1.11.2)\n"
      ]
     },
     "metadata": {},
     "output_type": "display_data"
    },
    {
     "data": {
      "text/html": [
       "<pre style=\"white-space:pre;overflow-x:auto;line-height:normal;font-family:Menlo,'DejaVu Sans Mono',consolas,'Courier New',monospace\">Requirement already satisfied: numpy&lt;1.28.0,&gt;=1.21.6 in c:\\users\\homhe\\appdata\\local\\programs\\python\\python311\\lib\\site-packages (from scipy) (1.25.2)\n",
       "</pre>\n"
      ],
      "text/plain": [
       "Requirement already satisfied: numpy<1.28.0,>=1.21.6 in c:\\users\\homhe\\appdata\\local\\programs\\python\\python311\\lib\\site-packages (from scipy) (1.25.2)\n"
      ]
     },
     "metadata": {},
     "output_type": "display_data"
    },
    {
     "data": {
      "text/html": [
       "<pre style=\"white-space:pre;overflow-x:auto;line-height:normal;font-family:Menlo,'DejaVu Sans Mono',consolas,'Courier New',monospace\">\n",
       "<span style=\"font-weight: bold\">[</span><span style=\"color: #000080; text-decoration-color: #000080; background-color: #ffffff\">notice</span><span style=\"color: #000000; text-decoration-color: #000000; background-color: #ffffff; font-weight: bold\">]</span><span style=\"color: #000000; text-decoration-color: #000000; background-color: #ffffff\"> A new release of pip is available: </span><span style=\"color: #800000; text-decoration-color: #800000; background-color: #ffffff\">23.1.2</span><span style=\"color: #000000; text-decoration-color: #000000; background-color: #ffffff\"> -&gt; </span><span style=\"color: #008000; text-decoration-color: #008000; background-color: #ffffff\">23.2.1</span>\n",
       "<span style=\"font-weight: bold\">[</span><span style=\"color: #000080; text-decoration-color: #000080; background-color: #ffffff\">notice</span><span style=\"color: #000000; text-decoration-color: #000000; background-color: #ffffff; font-weight: bold\">]</span><span style=\"color: #000000; text-decoration-color: #000000; background-color: #ffffff\"> To update, run: </span><span style=\"color: #008000; text-decoration-color: #008000; background-color: #ffffff\">python.exe -m pip install --upgrade pip</span>\n",
       "</pre>\n"
      ],
      "text/plain": [
       "\n",
       "\u001b[1m[\u001b[0m\u001b[34;49mnotice\u001b[0m\u001b[1;39;49m]\u001b[0m\u001b[39;49m A new release of pip is available: \u001b[0m\u001b[31;49m23.1.2\u001b[0m\u001b[39;49m -> \u001b[0m\u001b[32;49m23.2.1\u001b[0m\n",
       "\u001b[1m[\u001b[0m\u001b[34;49mnotice\u001b[0m\u001b[1;39;49m]\u001b[0m\u001b[39;49m To update, run: \u001b[0m\u001b[32;49mpython.exe -m pip install --upgrade pip\u001b[0m\n"
      ]
     },
     "metadata": {},
     "output_type": "display_data"
    },
    {
     "data": {
      "text/plain": [
       "0"
      ]
     },
     "execution_count": 1,
     "metadata": {},
     "output_type": "execute_result"
    }
   ],
   "source": [
    "import pip\n",
    "\n",
    "pip.main(['install', 'scipy'])"
   ]
  }
 ],
 "metadata": {
  "kernelspec": {
   "display_name": "Python 3",
   "language": "python",
   "name": "python3"
  },
  "language_info": {
   "codemirror_mode": {
    "name": "ipython",
    "version": 3
   },
   "file_extension": ".py",
   "mimetype": "text/x-python",
   "name": "python",
   "nbconvert_exporter": "python",
   "pygments_lexer": "ipython3",
   "version": "3.11.4"
  },
  "orig_nbformat": 4
 },
 "nbformat": 4,
 "nbformat_minor": 2
}
